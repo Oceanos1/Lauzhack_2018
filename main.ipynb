{
 "cells": [
  {
   "cell_type": "code",
   "execution_count": 3,
   "metadata": {},
   "outputs": [],
   "source": [
    "import time\n",
    "import pycurl\n",
    "import urllib\n",
    "import json"
   ]
  },
  {
   "cell_type": "code",
   "execution_count": 13,
   "metadata": {},
   "outputs": [
    {
     "ename": "SyntaxError",
     "evalue": "Missing parentheses in call to 'print'. Did you mean print(print 'Waiting %s seconds before trying again' % backoff_network_error)? (<ipython-input-13-518d1658de08>, line 27)",
     "output_type": "error",
     "traceback": [
      "\u001b[0;36m  File \u001b[0;32m\"<ipython-input-13-518d1658de08>\"\u001b[0;36m, line \u001b[0;32m27\u001b[0m\n\u001b[0;31m    print 'Waiting %s seconds before trying again' % backoff_network_error\u001b[0m\n\u001b[0m                                                 ^\u001b[0m\n\u001b[0;31mSyntaxError\u001b[0m\u001b[0;31m:\u001b[0m Missing parentheses in call to 'print'. Did you mean print(print 'Waiting %s seconds before trying again' % backoff_network_error)?\n"
     ]
    }
   ],
   "source": [
    "API_ENDPOINT_URL = 'http://lauzhack.sqpub.ch/prices'\n",
    "\n",
    "class SwissQuoteStream:\n",
    "    def __init__(self):\n",
    "        self.conn = None\n",
    "        self.buffer = ''\n",
    "        self.setup_connection()\n",
    "        \n",
    "    def setup_connection(self):\n",
    "        if self.conn:\n",
    "            self.conn.close()\n",
    "            self.buffer = ''\n",
    "        self.conn = pycurl.Curl()\n",
    "        self.conn.setopt(pycurl.URL, API_ENDPOINT_URL)\n",
    "        self.conn.setopt(pycurl.WRITEFUNCTION, self.handle_price)\n",
    "    \n",
    "    def start(self):\n",
    "        backoff_network_error = 0.25\n",
    "        backoff_http_error = 5\n",
    "        backoff_rate_limit = 60\n",
    "        while True:\n",
    "            self.setup_connection()\n",
    "            try:\n",
    "                self.conn.perform()\n",
    "            except:\n",
    "                print('Network error: %s', self.conn.errstr())\n",
    "                print 'Waiting %s seconds before trying again' % backoff_network_error\n",
    "                time.sleep(backoff_network_error)\n",
    "                backoff_network_error = min(backoff_network_error + 1, 16)\n",
    "                continue\n",
    "            # HTTP Error\n",
    "            sc = self.conn.getinfo(pycurl.HTTP_CODE)\n",
    "\n",
    "            # HTTP error, use exponential back off up to 320 seconds\n",
    "           # print(HTTP error %s, %s' % (sc, self.conn.errstr()))\n",
    "           # print 'Waiting %s seconds' % backoff_http_error\n",
    "            time.sleep(backoff_http_error)\n",
    "            backoff_http_error = min(backoff_http_error * 2, 320)\n",
    "        \n",
    "    def handle_price(self, data):\n",
    "        self.buffer += data\n",
    "        if data.endswith('\\r\\n') and self.buffer.strip():\n",
    "            # complete message received\n",
    "            message = json.loads(self.buffer)\n",
    "            self.buffer = ''\n",
    "            msg = ''\n",
    "            print(msg)\n",
    "            \n",
    "if __name__ == '__main__':\n",
    "    stream = SwissQuoteStream()\n",
    "    stream.setup_connection()\n",
    "stream.start()"
   ]
  },
  {
   "cell_type": "code",
   "execution_count": null,
   "metadata": {},
   "outputs": [],
   "source": []
  }
 ],
 "metadata": {
  "kernelspec": {
   "display_name": "Python 3",
   "language": "python",
   "name": "python3"
  },
  "language_info": {
   "codemirror_mode": {
    "name": "ipython",
    "version": 3
   },
   "file_extension": ".py",
   "mimetype": "text/x-python",
   "name": "python",
   "nbconvert_exporter": "python",
   "pygments_lexer": "ipython3",
   "version": "3.7.1"
  }
 },
 "nbformat": 4,
 "nbformat_minor": 2
}
