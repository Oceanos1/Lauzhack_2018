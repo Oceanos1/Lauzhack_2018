{
 "cells": [
  {
   "cell_type": "code",
   "execution_count": 1,
   "metadata": {},
   "outputs": [],
   "source": [
    "import time\n",
    "import pycurl\n",
    "import urllib\n",
    "import json"
   ]
  },
  {
   "cell_type": "code",
   "execution_count": null,
   "metadata": {
    "scrolled": false
   },
   "outputs": [
    {
     "name": "stdout",
     "output_type": "stream",
     "text": [
      "4247.19\n",
      "4247.12\n"
     ]
    },
    {
     "ename": "KeyboardInterrupt",
     "evalue": "",
     "output_type": "error",
     "traceback": [
      "\u001b[0;31m------------------------------------------------------------\u001b[0m",
      "\u001b[0;31mKeyboardInterrupt\u001b[0m          Traceback (most recent call last)",
      "\u001b[0;32m<ipython-input-2-597ee21f89a9>\u001b[0m in \u001b[0;36mhandle_price\u001b[0;34m(self, data)\u001b[0m\n\u001b[1;32m     37\u001b[0m             \u001b[0mbackoff_http_error\u001b[0m \u001b[0;34m=\u001b[0m \u001b[0mmin\u001b[0m\u001b[0;34m(\u001b[0m\u001b[0mbackoff_http_error\u001b[0m \u001b[0;34m*\u001b[0m \u001b[0;36m2\u001b[0m\u001b[0;34m,\u001b[0m \u001b[0;36m320\u001b[0m\u001b[0;34m)\u001b[0m\u001b[0;34m\u001b[0m\u001b[0m\n\u001b[1;32m     38\u001b[0m \u001b[0;34m\u001b[0m\u001b[0m\n\u001b[0;32m---> 39\u001b[0;31m     \u001b[0;32mdef\u001b[0m \u001b[0mhandle_price\u001b[0m\u001b[0;34m(\u001b[0m\u001b[0mself\u001b[0m\u001b[0;34m,\u001b[0m \u001b[0mdata\u001b[0m\u001b[0;34m)\u001b[0m\u001b[0;34m:\u001b[0m\u001b[0;34m\u001b[0m\u001b[0m\n\u001b[0m\u001b[1;32m     40\u001b[0m         \u001b[0mdata\u001b[0m \u001b[0;34m=\u001b[0m \u001b[0mdata\u001b[0m\u001b[0;34m.\u001b[0m\u001b[0mdecode\u001b[0m\u001b[0;34m(\u001b[0m\u001b[0;34m\"utf-8\"\u001b[0m\u001b[0;34m)\u001b[0m\u001b[0;34m\u001b[0m\u001b[0m\n\u001b[1;32m     41\u001b[0m         \u001b[0mself\u001b[0m\u001b[0;34m.\u001b[0m\u001b[0mbuffer\u001b[0m \u001b[0;34m+=\u001b[0m \u001b[0mstr\u001b[0m\u001b[0;34m(\u001b[0m\u001b[0mdata\u001b[0m\u001b[0;34m)\u001b[0m\u001b[0;34m\u001b[0m\u001b[0m\n",
      "\u001b[0;31mKeyboardInterrupt\u001b[0m: "
     ]
    },
    {
     "name": "stdout",
     "output_type": "stream",
     "text": [
      "Network error\n",
      "4247.07\n",
      "4247.06\n",
      "4246.99\n",
      "4248.08\n",
      "4247.29\n",
      "4247.22\n",
      "4246.53\n",
      "4244.56\n",
      "4246.11\n"
     ]
    }
   ],
   "source": [
    "API_ENDPOINT_URL = 'http://lauzhack.sqpub.ch/prices'\n",
    "\n",
    "class SwissQuoteStream:\n",
    "    def __init__(self):\n",
    "        self.conn = None\n",
    "        self.buffer = ''\n",
    "        self.setup_connection()\n",
    "        \n",
    "    def setup_connection(self):\n",
    "        if self.conn:\n",
    "            self.conn.close()\n",
    "            self.buffer = ''\n",
    "        self.conn = pycurl.Curl()\n",
    "        self.conn.setopt(pycurl.URL, API_ENDPOINT_URL)\n",
    "        self.conn.setopt(pycurl.WRITEFUNCTION, self.handle_price)\n",
    "    \n",
    "    def start(self):\n",
    "        backoff_network_error = 0.25\n",
    "        backoff_http_error = 5\n",
    "        backoff_rate_limit = 60\n",
    "        while True:\n",
    "            self.setup_connection()\n",
    "            try:\n",
    "                self.conn.perform()\n",
    "            except:\n",
    "                print('Network error')\n",
    "                time.sleep(backoff_network_error)\n",
    "                backoff_network_error = min(backoff_network_error + 1, 16)\n",
    "                continue\n",
    "            # HTTP Error\n",
    "            sc = self.conn.getinfo(pycurl.HTTP_CODE)\n",
    "\n",
    "            # HTTP error, use exponential back off up to 320 seconds\n",
    "           # print(HTTP error %s, %s' % (sc, self.conn.errstr()))\n",
    "           # print 'Waiting %s seconds' % backoff_http_error\n",
    "            time.sleep(backoff_http_error)\n",
    "            backoff_http_error = min(backoff_http_error * 2, 320)\n",
    "        \n",
    "    def handle_price(self, data):\n",
    "        data = data.decode(\"utf-8\") \n",
    "        self.buffer += str(data)\n",
    "        if data.endswith('\\n') and self.buffer.strip():\n",
    "            price = data.split(' ')[1][:-1]\n",
    "            print(price)\n",
    "            self.buffer = ''\n",
    "            \n",
    "if __name__ == '__main__':\n",
    "    stream = SwissQuoteStream()\n",
    "    stream.setup_connection()\n",
    "\n",
    "stream.start()\n",
    "stream.buffer"
   ]
  },
  {
   "cell_type": "code",
   "execution_count": null,
   "metadata": {},
   "outputs": [],
   "source": []
  }
 ],
 "metadata": {
  "kernelspec": {
   "display_name": "Python 3",
   "language": "python",
   "name": "python3"
  },
  "language_info": {
   "codemirror_mode": {
    "name": "ipython",
    "version": 3
   },
   "file_extension": ".py",
   "mimetype": "text/x-python",
   "name": "python",
   "nbconvert_exporter": "python",
   "pygments_lexer": "ipython3",
   "version": "3.6.4"
  }
 },
 "nbformat": 4,
 "nbformat_minor": 2
}
