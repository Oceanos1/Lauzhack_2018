{
 "cells": [
  {
   "cell_type": "code",
   "execution_count": null,
   "metadata": {
    "scrolled": false
   },
   "outputs": [
    {
     "name": "stdout",
     "output_type": "stream",
     "text": [
      "Total: 99351.79817753221, % assets: 0.9944778833013451\n",
      "Total: 99351.53695865751, % assets: 0.994477868782384\n",
      "Total: 99367.7325288899, % assets: 0.9944787688136284\n",
      "Total: 99367.7325288899, % assets: 0.9944787688136284\n",
      "Total: 99424.67824357803, % assets: 0.9944819311115751\n",
      "Total: 99411.87851871694, % assets: 0.9944812206354773\n",
      "Total: 99404.04195247545, % assets: 0.9944807855598081\n",
      "Total: 99404.04195247545, % assets: 0.9944807855598081\n",
      "Total: 99386.01785012003, % assets: 0.9944797846253896\n",
      "Total: 99390.71978986493, % assets: 0.9944800457737154\n",
      "Total: 99390.71978986493, % assets: 0.9944800457737154\n",
      "Total: 99390.71978986493, % assets: 0.9944800457737154\n",
      "Total: 99386.54028786946, % assets: 0.9944798136430905\n",
      "Total: 99449.23281780136, % assets: 0.9944832935537806\n",
      "Total: 99441.39625155987, % assets: 0.9944828588049021\n",
      "Total: 99430.16383994707, % assets: 0.9944822355453354\n",
      "Total: 99434.34334194254, % assets: 0.9944824674723214\n",
      "Total: 99434.34334194254, % assets: 0.9944824674723214\n",
      "Total: 99432.77602869424, % assets: 0.9944823805019865\n",
      "Total: 99506.96218911363, % assets: 0.9944864940936007\n",
      "Total: 99523.92146784489, % assets: 0.9564191101718306\n",
      "Total: 99523.92146784489, % assets: 0.9564191101718306\n",
      "Total: 99549.0433553165, % assets: 0.9564301081098647\n",
      "Total: 99549.29457419123, % assets: 0.9564302180612135\n",
      "Total: 99549.29457419123, % assets: 0.9564302180612135\n",
      "Total: 99521.91171684716, % assets: 0.9564182300969274\n",
      "Total: 99530.62620984716, % assets: 0.08077554584193124\n",
      "Total: 99524.15412817826, % assets: 0.4331494268820454\n",
      "Total: 99508.26513780851, % assets: 0.4892439284016774\n",
      "Total: 99541.83776199937, % assets: 0.6429735570899275\n",
      "Total: 99512.61614674002, % assets: 0.642868717223827\n",
      "Total: 99497.92088357492, % assets: 0.6428159710142752\n",
      "Total: 99508.13171221815, % assets: 0.6861266618189511\n",
      "Total: 99486.71635889789, % assets: 0.718485578380223\n",
      "Total: 99475.38834448517, % assets: 0.7184535202050444\n",
      "Total: 99464.62673079308, % assets: 0.7184230581749589\n",
      "Total: 99460.79222887318, % assets: 0.876168429126942\n",
      "Total: 99458.95019804733, % assets: 0.876166135702667\n",
      "Total: 99448.35852079862, % assets: 0.8761529468643331\n",
      "Total: 99448.35852079862, % assets: 0.8761529468643331\n",
      "Total: 99463.80597988491, % assets: 0.9204195120081671\n",
      "Total: 99456.79144194926, % assets: 0.9204138993160235\n",
      "Total: 99409.38284072901, % assets: 0.9203759444912154\n",
      "Total: 99409.38284072901, % assets: 0.9203759444912154\n",
      "Total: 99454.13075514608, % assets: 0.9204117701567196\n",
      "Total: 99467.1923085435, % assets: 0.9204222213003558\n",
      "Total: 99467.1923085435, % assets: 0.9204222213003558\n",
      "Total: 99467.1923085435, % assets: 0.9204222213003558\n",
      "Total: 99465.74102483268, % assets: 0.9204210601977211\n",
      "Total: 99404.5452283596, % assets: 0.9203720695143223\n",
      "Total: 99459.6940093709, % assets: 0.9204162219053433\n",
      "Total: 99443.00424669642, % assets: 0.9204028651651764\n",
      "Total: 99443.00424669642, % assets: 0.9204028651651764\n",
      "Total: 99442.76236607795, % assets: 0.9204026715562728\n",
      "Total: 99411.0760050583, % assets: 0.9203773006440301\n",
      "Total: 99422.92815536336, % assets: 0.9203867924204038\n"
     ]
    }
   ],
   "source": [
    "import time\n",
    "import requests\n",
    "\n",
    "API_ENDPOINT_URL = 'http://lauzhack.sqpub.ch/teams/'\n",
    "\n",
    "\n",
    "while True:\n",
    "    r = requests.get(API_ENDPOINT_URL)\n",
    "    cash = r.json()[12][\"cash\"]\n",
    "    assets = r.json()[12][\"assets\"]\n",
    "    total = cash +  assets\n",
    "    percent_assets = assets / total\n",
    "    \n",
    "    print(\"Total: \" + str(total) + ', % assets: ' + str(percent_assets))\n",
    "    #print(\"Total: \" + str(total))\n",
    "\n",
    "    #f = open(\"stats.txt\",\"a\")\n",
    "    #f.write(str(r.json()[12][\"cash\"]+r.json()[12][\"assets\"])+\"\\n\")\n",
    "\n",
    "    time.sleep(3)"
   ]
  },
  {
   "cell_type": "code",
   "execution_count": null,
   "metadata": {},
   "outputs": [],
   "source": []
  }
 ],
 "metadata": {
  "kernelspec": {
   "display_name": "Python 3",
   "language": "python",
   "name": "python3"
  },
  "language_info": {
   "codemirror_mode": {
    "name": "ipython",
    "version": 3
   },
   "file_extension": ".py",
   "mimetype": "text/x-python",
   "name": "python",
   "nbconvert_exporter": "python",
   "pygments_lexer": "ipython3",
   "version": "3.6.4"
  }
 },
 "nbformat": 4,
 "nbformat_minor": 2
}
