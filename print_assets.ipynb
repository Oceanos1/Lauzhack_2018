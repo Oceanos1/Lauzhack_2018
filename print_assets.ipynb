{
 "cells": [
  {
   "cell_type": "code",
   "execution_count": null,
   "metadata": {
    "scrolled": false
   },
   "outputs": [
    {
     "name": "stdout",
     "output_type": "stream",
     "text": [
      "Total: 99561.02466348842, % assets: 0.10915004423272494\n",
      "Total: 99561.02466348842, % assets: 0.10915004423272494\n",
      "Total: 99569.02778399407, % assets: 0.10922164862323802\n",
      "Total: 99568.25033651604, % assets: 0.19018559596121526\n",
      "Total: 99568.20038835415, % assets: 0.1901851897196563\n",
      "Total: 99568.20038835415, % assets: 0.1901851897196563\n",
      "Total: 99566.92324933881, % assets: 0.31027220680515705\n",
      "Total: 99566.92324933881, % assets: 0.31027220680515705\n",
      "Total: 99562.47502434108, % assets: 0.5042934105704743\n",
      "Total: 99562.47502434108, % assets: 0.5042934105704743\n",
      "Total: 99568.42059418489, % assets: 0.7646889146022884\n",
      "Total: 99559.78381102881, % assets: 0.7646685014320199\n",
      "Total: 99553.55729293951, % assets: 0.7646537827632686\n",
      "Total: 99550.34360618377, % assets: 0.7646461853106236\n",
      "Total: 99550.74531702822, % assets: 0.7646471350190296\n",
      "Total: 99550.14275076153, % assets: 0.7646457104535463\n",
      "Total: 99546.12564231682, % assets: 0.7646362129095895\n",
      "Total: 99543.91623267226, % assets: 0.7646309889336713\n",
      "Total: 99539.84086021833, % assets: 0.9722794012548522\n",
      "Total: 99542.39483397343, % assets: 0.9722801124863008\n",
      "Total: 99542.39483397343, % assets: 0.9722801124863008\n",
      "Total: 99542.39483397343, % assets: 0.9722801124863008\n",
      "Total: 99548.01357623462, % assets: 0.9722816770670277\n",
      "Total: 99547.7581788591, % assets: 0.9722816059535535\n",
      "Total: 99548.01357623462, % assets: 0.9722816770670277\n",
      "Total: 99551.07834474072, % assets: 0.972282530400257\n",
      "Total: 99550.82294736522, % assets: 0.9722824592911614\n",
      "Total: 99594.49589857717, % assets: 0.9722946136455981\n",
      "Total: 99631.52851802591, % assets: 0.9723049116209961\n",
      "Total: 99631.52851802591, % assets: 0.9723049116209961\n",
      "Total: 99631.2731206504, % assets: 0.9723048406266921\n",
      "Total: 99693.84547764999, % assets: 0.972322223358707\n",
      "Total: 99759.22720578016, % assets: 0.97234036324329\n",
      "Total: 99810.05128350636, % assets: 0.9723544477519174\n",
      "Total: 99810.05128350636, % assets: 0.9723544477519174\n",
      "Total: 99887.69208566096, % assets: 0.9723759361135736\n",
      "Total: 99887.43668828545, % assets: 0.9723758654829353\n",
      "Total: 99887.43668828545, % assets: 0.9723758654829353\n",
      "Total: 99887.43668828545, % assets: 0.9723758654829353\n",
      "Total: 99876.19920376307, % assets: 0.9723727573772349\n",
      "Total: 99875.94380638757, % assets: 0.9723726867303405\n",
      "Total: 99763.82435853932, % assets: 0.9723416378092588\n",
      "Total: 99761.52578215975, % assets: 0.9723410005409578\n",
      "Total: 99761.52578215975, % assets: 0.9723410005409578\n",
      "Total: 99761.52578215975, % assets: 0.9723410005409578\n",
      "Total: 99761.52578215975, % assets: 0.9723410005409578\n",
      "Total: 99761.52578215975, % assets: 0.9723410005409578\n",
      "Total: 99834.31403417967, % assets: 0.9723611664552801\n",
      "Total: 99919.61675759952, % assets: 0.9723847620999595\n",
      "Total: 99962.26811930943, % assets: 0.9723965448208055\n",
      "Total: 99863.17393761214, % assets: 0.9723691539248912\n",
      "Total: 99798.04760685746, % assets: 0.9723511225539008\n",
      "Total: 99797.79220948197, % assets: 0.9723510517963161\n",
      "Total: 99836.86800793475, % assets: 0.9723618734972468\n",
      "Total: 99836.86800793475, % assets: 0.9723618734972468\n",
      "Total: 99836.86800793475, % assets: 0.9723618734972468\n",
      "Total: 99836.61261055926, % assets: 0.972361802794678\n",
      "Total: 99836.10181580824, % assets: 0.9723616613884551\n"
     ]
    }
   ],
   "source": [
    "import time\n",
    "import requests\n",
    "\n",
    "API_ENDPOINT_URL = 'http://lauzhack.sqpub.ch/teams/'\n",
    "\n",
    "\n",
    "while True:\n",
    "    r = requests.get(API_ENDPOINT_URL)\n",
    "    cash = r.json()[12][\"cash\"]\n",
    "    assets = r.json()[12][\"assets\"]\n",
    "    total = cash +  assets\n",
    "    percent_assets = assets / total\n",
    "    \n",
    "    print(\"Total: \" + str(total) + ', % assets: ' + str(percent_assets))\n",
    "    #print(\"Total: \" + str(total))\n",
    "\n",
    "    #f = open(\"stats.txt\",\"a\")\n",
    "    #f.write(str(r.json()[12][\"cash\"]+r.json()[12][\"assets\"])+\"\\n\")\n",
    "\n",
    "    time.sleep(3)"
   ]
  },
  {
   "cell_type": "code",
   "execution_count": null,
   "metadata": {},
   "outputs": [],
   "source": []
  }
 ],
 "metadata": {
  "kernelspec": {
   "display_name": "Python 3",
   "language": "python",
   "name": "python3"
  },
  "language_info": {
   "codemirror_mode": {
    "name": "ipython",
    "version": 3
   },
   "file_extension": ".py",
   "mimetype": "text/x-python",
   "name": "python",
   "nbconvert_exporter": "python",
   "pygments_lexer": "ipython3",
   "version": "3.6.4"
  }
 },
 "nbformat": 4,
 "nbformat_minor": 2
}
