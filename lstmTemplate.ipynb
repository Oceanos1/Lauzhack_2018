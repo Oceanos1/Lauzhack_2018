{
 "cells": [
  {
   "cell_type": "code",
   "execution_count": 9,
   "metadata": {},
   "outputs": [],
   "source": [
    "from keras.models import Sequential\n",
    "from keras.layers import LSTM, Dense\n",
    "from keras.datasets import mnist\n",
    "from keras.utils import np_utils\n",
    "from keras import initializers\n",
    "\n",
    "def init_weights(shape, name=None):\n",
    "    return initializers.normal(shape, scale=0.01, name=name)\n"
   ]
  },
  {
   "cell_type": "code",
   "execution_count": 10,
   "metadata": {},
   "outputs": [],
   "source": [
    "# Hyper parameters\n",
    "batch_size = 128\n",
    "nb_epoch = 50\n",
    "\n",
    "# Parameters for MNIST dataset\n",
    "img_rows, img_cols = 28, 28\n",
    "nb_classes = 10\n",
    "\n",
    "# Parameters for LSTM network\n",
    "nb_lstm_outputs = 30\n",
    "nb_time_steps = img_rows\n",
    "dim_input_vector = img_cols"
   ]
  },
  {
   "cell_type": "code",
   "execution_count": 11,
   "metadata": {},
   "outputs": [
    {
     "name": "stdout",
     "output_type": "stream",
     "text": [
      "X_train original shape: (60000, 28, 28)\n",
      "X_train shape: (60000, 28, 28)\n",
      "60000 train samples\n",
      "10000 test samples\n"
     ]
    }
   ],
   "source": [
    "# Load MNIST dataset\n",
    "(X_train, y_train), (X_test, y_test) = mnist.load_data()\n",
    "print('X_train original shape:', X_train.shape)\n",
    "input_shape = (nb_time_steps, dim_input_vector)\n",
    "\n",
    "X_train = X_train.astype('float32') / 255.\n",
    "X_test = X_test.astype('float32') / 255.\n",
    "Y_train = np_utils.to_categorical(y_train, nb_classes)\n",
    "Y_test = np_utils.to_categorical(y_test, nb_classes)\n",
    "\n",
    "print('X_train shape:', X_train.shape)\n",
    "print(X_train.shape[0], 'train samples')\n",
    "print(X_test.shape[0], 'test samples')"
   ]
  },
  {
   "cell_type": "code",
   "execution_count": 15,
   "metadata": {},
   "outputs": [
    {
     "name": "stdout",
     "output_type": "stream",
     "text": [
      "_________________________________________________________________\n",
      "Layer (type)                 Output Shape              Param #   \n",
      "=================================================================\n",
      "lstm_5 (LSTM)                (None, 30)                7080      \n",
      "_________________________________________________________________\n",
      "dense_3 (Dense)              (None, 10)                310       \n",
      "=================================================================\n",
      "Total params: 7,390\n",
      "Trainable params: 7,390\n",
      "Non-trainable params: 0\n",
      "_________________________________________________________________\n"
     ]
    }
   ],
   "source": [
    "\n",
    "# Build LSTM network\n",
    "model = Sequential()\n",
    "model.add(LSTM(nb_lstm_outputs, input_shape=input_shape))\n",
    "model.add(Dense(nb_classes, activation='softmax',kernel_initializer='uniform'))\n",
    "model.compile(optimizer='rmsprop', loss='categorical_crossentropy', metrics=['accuracy'])\n",
    "model.summary()\n",
    "\n"
   ]
  },
  {
   "cell_type": "code",
   "execution_count": null,
   "metadata": {},
   "outputs": [
    {
     "name": "stderr",
     "output_type": "stream",
     "text": [
      "/home/oceanos1/miniconda3/envs/lauzhack2/lib/python3.6/site-packages/ipykernel_launcher.py:2: UserWarning: The `nb_epoch` argument in `fit` has been renamed `epochs`.\n",
      "  \n"
     ]
    },
    {
     "name": "stdout",
     "output_type": "stream",
     "text": [
      "Epoch 1/50\n",
      "60000/60000 [==============================] - 8s 130us/step - loss: 1.3280 - acc: 0.5808\n",
      "Epoch 2/50\n",
      "60000/60000 [==============================] - 7s 124us/step - loss: 0.5999 - acc: 0.8072\n",
      "Epoch 3/50\n",
      "60000/60000 [==============================] - 7s 125us/step - loss: 0.3760 - acc: 0.8848\n",
      "Epoch 4/50\n",
      "60000/60000 [==============================] - 8s 131us/step - loss: 0.2693 - acc: 0.9207\n",
      "Epoch 5/50\n",
      "60000/60000 [==============================] - 8s 140us/step - loss: 0.2154 - acc: 0.9379\n",
      "Epoch 6/50\n",
      "60000/60000 [==============================] - 8s 130us/step - loss: 0.1790 - acc: 0.9484\n",
      "Epoch 7/50\n",
      "60000/60000 [==============================] - 8s 126us/step - loss: 0.1547 - acc: 0.9556\n",
      "Epoch 8/50\n",
      "60000/60000 [==============================] - 8s 138us/step - loss: 0.1376 - acc: 0.9604\n",
      "Epoch 9/50\n",
      "60000/60000 [==============================] - 8s 128us/step - loss: 0.1234 - acc: 0.9642\n",
      "Epoch 10/50\n",
      "60000/60000 [==============================] - 8s 127us/step - loss: 0.1126 - acc: 0.9676\n",
      "Epoch 11/50\n",
      "60000/60000 [==============================] - 8s 137us/step - loss: 0.1035 - acc: 0.9700\n",
      "Epoch 12/50\n",
      "60000/60000 [==============================] - 7s 125us/step - loss: 0.0956 - acc: 0.9720\n",
      "Epoch 13/50\n",
      "60000/60000 [==============================] - 7s 124us/step - loss: 0.0894 - acc: 0.9740\n",
      "Epoch 14/50\n",
      "60000/60000 [==============================] - 7s 123us/step - loss: 0.0839 - acc: 0.9751\n",
      "Epoch 15/50\n",
      "60000/60000 [==============================] - 8s 126us/step - loss: 0.0792 - acc: 0.9767\n",
      "Epoch 16/50\n",
      "60000/60000 [==============================] - 8s 126us/step - loss: 0.0762 - acc: 0.9773\n",
      "Epoch 17/50\n",
      "60000/60000 [==============================] - 8s 125us/step - loss: 0.0719 - acc: 0.9780\n",
      "Epoch 18/50\n",
      "60000/60000 [==============================] - 8s 127us/step - loss: 0.0680 - acc: 0.9796\n",
      "Epoch 19/50\n",
      "60000/60000 [==============================] - 8s 126us/step - loss: 0.0653 - acc: 0.9805\n",
      "Epoch 20/50\n",
      "60000/60000 [==============================] - 7s 125us/step - loss: 0.0623 - acc: 0.9814\n",
      "Epoch 21/50\n",
      "60000/60000 [==============================] - 8s 129us/step - loss: 0.0600 - acc: 0.9819\n",
      "Epoch 22/50\n",
      "60000/60000 [==============================] - 8s 126us/step - loss: 0.0566 - acc: 0.9833\n",
      "Epoch 23/50\n",
      "60000/60000 [==============================] - 8s 126us/step - loss: 0.0541 - acc: 0.9838\n",
      "Epoch 24/50\n",
      "60000/60000 [==============================] - 8s 127us/step - loss: 0.0538 - acc: 0.9841\n",
      "Epoch 25/50\n",
      "60000/60000 [==============================] - 8s 128us/step - loss: 0.0509 - acc: 0.9842\n",
      "Epoch 26/50\n",
      "60000/60000 [==============================] - 8s 127us/step - loss: 0.0489 - acc: 0.9848\n",
      "Epoch 27/50\n",
      "60000/60000 [==============================] - 8s 126us/step - loss: 0.0470 - acc: 0.9853\n",
      "Epoch 28/50\n",
      "60000/60000 [==============================] - 8s 128us/step - loss: 0.0458 - acc: 0.9860\n",
      "Epoch 29/50\n",
      "60000/60000 [==============================] - 8s 128us/step - loss: 0.0448 - acc: 0.9863\n",
      "Epoch 30/50\n",
      "60000/60000 [==============================] - 8s 127us/step - loss: 0.0426 - acc: 0.9870\n",
      "Epoch 31/50\n",
      "60000/60000 [==============================] - 8s 129us/step - loss: 0.0418 - acc: 0.9872\n",
      "Epoch 32/50\n",
      "60000/60000 [==============================] - 8s 127us/step - loss: 0.0398 - acc: 0.9877\n",
      "Epoch 33/50\n",
      "60000/60000 [==============================] - 8s 128us/step - loss: 0.0385 - acc: 0.9884\n",
      "Epoch 34/50\n",
      "60000/60000 [==============================] - 8s 127us/step - loss: 0.0375 - acc: 0.9882\n",
      "Epoch 35/50\n",
      "60000/60000 [==============================] - 8s 134us/step - loss: 0.0363 - acc: 0.9891\n",
      "Epoch 36/50\n",
      "60000/60000 [==============================] - 8s 129us/step - loss: 0.0351 - acc: 0.9893\n",
      "Epoch 37/50\n",
      "60000/60000 [==============================] - 8s 129us/step - loss: 0.0338 - acc: 0.9898\n",
      "Epoch 38/50\n",
      "60000/60000 [==============================] - 8s 130us/step - loss: 0.0337 - acc: 0.9899\n",
      "Epoch 39/50\n",
      "60000/60000 [==============================] - 8s 128us/step - loss: 0.0324 - acc: 0.9904\n",
      "Epoch 40/50\n",
      "60000/60000 [==============================] - 8s 129us/step - loss: 0.0321 - acc: 0.9904\n",
      "Epoch 41/50\n",
      "60000/60000 [==============================] - 8s 130us/step - loss: 0.0308 - acc: 0.9907\n",
      "Epoch 42/50\n",
      "60000/60000 [==============================] - 8s 130us/step - loss: 0.0305 - acc: 0.9905\n",
      "Epoch 43/50\n",
      "60000/60000 [==============================] - 8s 130us/step - loss: 0.0301 - acc: 0.9904\n",
      "Epoch 44/50\n",
      "60000/60000 [==============================] - 8s 129us/step - loss: 0.0285 - acc: 0.9911\n",
      "Epoch 45/50\n",
      "60000/60000 [==============================] - 8s 130us/step - loss: 0.0286 - acc: 0.9914\n",
      "Epoch 46/50\n",
      "60000/60000 [==============================] - 8s 132us/step - loss: 0.0270 - acc: 0.9915\n",
      "Epoch 47/50\n",
      " 9216/60000 [===>..........................] - ETA: 6s - loss: 0.0234 - acc: 0.9927"
     ]
    }
   ],
   "source": [
    "# Train\n",
    "history = model.fit(X_train, Y_train, nb_epoch=nb_epoch, batch_size=batch_size, shuffle=True, verbose=1)"
   ]
  },
  {
   "cell_type": "code",
   "execution_count": 6,
   "metadata": {},
   "outputs": [
    {
     "ename": "RuntimeError",
     "evalue": "You must compile a model before training/testing. Use `model.compile(optimizer, loss)`.",
     "output_type": "error",
     "traceback": [
      "\u001b[0;31m---------------------------------------------------------------------------\u001b[0m",
      "\u001b[0;31mRuntimeError\u001b[0m                              Traceback (most recent call last)",
      "\u001b[0;32m<ipython-input-6-5ad1b55ba6b5>\u001b[0m in \u001b[0;36m<module>\u001b[0;34m\u001b[0m\n\u001b[1;32m      1\u001b[0m \u001b[0;31m# Evaluate\u001b[0m\u001b[0;34m\u001b[0m\u001b[0;34m\u001b[0m\u001b[0;34m\u001b[0m\u001b[0m\n\u001b[0;32m----> 2\u001b[0;31m \u001b[0mevaluation\u001b[0m \u001b[0;34m=\u001b[0m \u001b[0mmodel\u001b[0m\u001b[0;34m.\u001b[0m\u001b[0mevaluate\u001b[0m\u001b[0;34m(\u001b[0m\u001b[0mX_test\u001b[0m\u001b[0;34m,\u001b[0m \u001b[0mY_test\u001b[0m\u001b[0;34m,\u001b[0m \u001b[0mbatch_size\u001b[0m\u001b[0;34m=\u001b[0m\u001b[0mbatch_size\u001b[0m\u001b[0;34m,\u001b[0m \u001b[0mverbose\u001b[0m\u001b[0;34m=\u001b[0m\u001b[0;36m1\u001b[0m\u001b[0;34m)\u001b[0m\u001b[0;34m\u001b[0m\u001b[0;34m\u001b[0m\u001b[0m\n\u001b[0m\u001b[1;32m      3\u001b[0m \u001b[0mprint\u001b[0m\u001b[0;34m(\u001b[0m\u001b[0;34m'Summary: Loss over the test dataset: %.2f, Accuracy: %.2f'\u001b[0m \u001b[0;34m%\u001b[0m \u001b[0;34m(\u001b[0m\u001b[0mevaluation\u001b[0m\u001b[0;34m[\u001b[0m\u001b[0;36m0\u001b[0m\u001b[0;34m]\u001b[0m\u001b[0;34m,\u001b[0m \u001b[0mevaluation\u001b[0m\u001b[0;34m[\u001b[0m\u001b[0;36m1\u001b[0m\u001b[0;34m]\u001b[0m\u001b[0;34m)\u001b[0m\u001b[0;34m)\u001b[0m\u001b[0;34m\u001b[0m\u001b[0;34m\u001b[0m\u001b[0m\n",
      "\u001b[0;32m~/miniconda3/envs/lauzhack2/lib/python3.6/site-packages/keras/engine/training.py\u001b[0m in \u001b[0;36mevaluate\u001b[0;34m(self, x, y, batch_size, verbose, sample_weight, steps)\u001b[0m\n\u001b[1;32m   1100\u001b[0m             \u001b[0mx\u001b[0m\u001b[0;34m,\u001b[0m \u001b[0my\u001b[0m\u001b[0;34m,\u001b[0m\u001b[0;34m\u001b[0m\u001b[0;34m\u001b[0m\u001b[0m\n\u001b[1;32m   1101\u001b[0m             \u001b[0msample_weight\u001b[0m\u001b[0;34m=\u001b[0m\u001b[0msample_weight\u001b[0m\u001b[0;34m,\u001b[0m\u001b[0;34m\u001b[0m\u001b[0;34m\u001b[0m\u001b[0m\n\u001b[0;32m-> 1102\u001b[0;31m             batch_size=batch_size)\n\u001b[0m\u001b[1;32m   1103\u001b[0m         \u001b[0;31m# Prepare inputs, delegate logic to `test_loop`.\u001b[0m\u001b[0;34m\u001b[0m\u001b[0;34m\u001b[0m\u001b[0;34m\u001b[0m\u001b[0m\n\u001b[1;32m   1104\u001b[0m         \u001b[0;32mif\u001b[0m \u001b[0mself\u001b[0m\u001b[0;34m.\u001b[0m\u001b[0m_uses_dynamic_learning_phase\u001b[0m\u001b[0;34m(\u001b[0m\u001b[0;34m)\u001b[0m\u001b[0;34m:\u001b[0m\u001b[0;34m\u001b[0m\u001b[0;34m\u001b[0m\u001b[0m\n",
      "\u001b[0;32m~/miniconda3/envs/lauzhack2/lib/python3.6/site-packages/keras/engine/training.py\u001b[0m in \u001b[0;36m_standardize_user_data\u001b[0;34m(self, x, y, sample_weight, class_weight, check_array_lengths, batch_size)\u001b[0m\n\u001b[1;32m    679\u001b[0m         \u001b[0;32mif\u001b[0m \u001b[0my\u001b[0m \u001b[0;32mis\u001b[0m \u001b[0;32mnot\u001b[0m \u001b[0;32mNone\u001b[0m\u001b[0;34m:\u001b[0m\u001b[0;34m\u001b[0m\u001b[0;34m\u001b[0m\u001b[0m\n\u001b[1;32m    680\u001b[0m             \u001b[0;32mif\u001b[0m \u001b[0;32mnot\u001b[0m \u001b[0mself\u001b[0m\u001b[0;34m.\u001b[0m\u001b[0moptimizer\u001b[0m\u001b[0;34m:\u001b[0m\u001b[0;34m\u001b[0m\u001b[0;34m\u001b[0m\u001b[0m\n\u001b[0;32m--> 681\u001b[0;31m                 raise RuntimeError('You must compile a model before '\n\u001b[0m\u001b[1;32m    682\u001b[0m                                    \u001b[0;34m'training/testing. '\u001b[0m\u001b[0;34m\u001b[0m\u001b[0;34m\u001b[0m\u001b[0m\n\u001b[1;32m    683\u001b[0m                                    'Use `model.compile(optimizer, loss)`.')\n",
      "\u001b[0;31mRuntimeError\u001b[0m: You must compile a model before training/testing. Use `model.compile(optimizer, loss)`."
     ]
    }
   ],
   "source": [
    "# Evaluate\n",
    "evaluation = model.evaluate(X_test, Y_test, batch_size=batch_size, verbose=1)\n",
    "print('Summary: Loss over the test dataset: %.2f, Accuracy: %.2f' % (evaluation[0], evaluation[1]))"
   ]
  },
  {
   "cell_type": "code",
   "execution_count": null,
   "metadata": {},
   "outputs": [],
   "source": []
  }
 ],
 "metadata": {
  "kernelspec": {
   "display_name": "lauzhack2",
   "language": "python",
   "name": "lauzhack2"
  },
  "language_info": {
   "codemirror_mode": {
    "name": "ipython",
    "version": 3
   },
   "file_extension": ".py",
   "mimetype": "text/x-python",
   "name": "python",
   "nbconvert_exporter": "python",
   "pygments_lexer": "ipython3",
   "version": "3.6.7"
  }
 },
 "nbformat": 4,
 "nbformat_minor": 2
}
