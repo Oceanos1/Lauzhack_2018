{
 "cells": [
  {
   "cell_type": "code",
   "execution_count": 4,
   "metadata": {},
   "outputs": [],
   "source": [
    "import time\n",
    "import pycurl\n",
    "import urllib\n",
    "import json\n",
    "import requests"
   ]
  },
  {
   "cell_type": "code",
   "execution_count": 39,
   "metadata": {
    "scrolled": false
   },
   "outputs": [],
   "source": [
    "API_ENDPOINT_URL = 'http://lauzhack.sqpub.ch/'\n",
    "API_KEY = '98423jhHJDmM'\n",
    "\n",
    "class SwissQuoteStream:\n",
    "    def __init__(self, callback):\n",
    "        self.callback = callback\n",
    "        self.conn = None\n",
    "        self.buffer = ''\n",
    "        self.setup_connection()\n",
    "        \n",
    "    def setup_connection(self):\n",
    "        if self.conn:\n",
    "            self.conn.close()\n",
    "            self.buffer = ''\n",
    "        self.conn = pycurl.Curl()\n",
    "        self.conn.setopt(pycurl.URL, API_ENDPOINT_URL + 'prices')\n",
    "        self.conn.setopt(pycurl.WRITEFUNCTION, self.callback)\n",
    "    \n",
    "    def start(self):\n",
    "        backoff_network_error = 0.25\n",
    "        backoff_http_error = 5\n",
    "        backoff_rate_limit = 60\n",
    "        while True:\n",
    "            self.setup_connection()\n",
    "            try:\n",
    "                self.conn.perform()\n",
    "            except:\n",
    "                print('Network error')\n",
    "                time.sleep(backoff_network_error)\n",
    "                backoff_network_error = min(backoff_network_error + 1, 16)\n",
    "                continue\n",
    "            # HTTP Error\n",
    "            sc = self.conn.getinfo(pycurl.HTTP_CODE)\n",
    "\n",
    "            # HTTP error, use exponential back off up to 320 seconds\n",
    "           # print(HTTP error %s, %s' % (sc, self.conn.errstr()))\n",
    "           # print 'Waiting %s seconds' % backoff_http_error\n",
    "            time.sleep(backoff_http_error)\n",
    "            backoff_http_error = min(backoff_http_error * 2, 320)\n",
    "            \n",
    "    def buy(self, btc_amount):\n",
    "        data = str.encode('BUY 0.00000001 BTC ' + API_KEY)\n",
    "        #data = str.encode('BUY ' + str(btc_amount) +' BTC ' + API_KEY)\n",
    "        r = requests.post(API_ENDPOINT_URL, data={data})\n",
    "        return str(r.status_code) + ' ' + str(r.reason)\n",
    "\n",
    "        \n",
    "    def sell(self, btc_amount):\n",
    "        data = str.encode('SELL 0.00000001 BTC ' + API_KEY)\n",
    "       # data = str.encode('SELL ' + str(btc_amount) +' BTC ' + API_KEY)\n",
    "        r = requests.post(API_ENDPOINT_URL, data={data})\n",
    "        return str(r.status_code) + ' ' + str(r.reason)\n",
    "        \n",
    "\n",
    "def extract_price(data):\n",
    "    return data.decode(\"utf-8\") .split(' ')[1][:-1]\n",
    "\n",
    "def handle_new_price(data):\n",
    "    print(extract_price(data))\n",
    "    \n",
    "def do_bot_things(data,time_to_sleep):\n",
    "    while(True):\n",
    "        \n",
    "        # 1 get infos\n",
    "        \n",
    "        # 2 create inputs\n",
    "        \n",
    "        # 3 go through graph\n",
    "        \n",
    "        #https://stackoverflow.com/questions/37891954/keras-how-do-i-predict-after-i-trained-a-model\n",
    "        #prediction = model.predict(np.array(tk.texts_to_sequences(text)))\n",
    "        #print(prediction)\n",
    "        \n",
    "        # 4 depending on output : buy, sell or do nothing\n",
    "        \n",
    "        time.sleep(time_to_sleep)"
   ]
  },
  {
   "cell_type": "code",
   "execution_count": 40,
   "metadata": {
    "scrolled": false
   },
   "outputs": [
    {
     "data": {
      "text/plain": [
       "'400 Bad Request'"
      ]
     },
     "execution_count": 40,
     "metadata": {},
     "output_type": "execute_result"
    }
   ],
   "source": [
    "stream = SwissQuoteStream(handle_new_price)\n",
    "stream.buy(0.00000001)"
   ]
  },
  {
   "cell_type": "code",
   "execution_count": null,
   "metadata": {},
   "outputs": [],
   "source": [
    "stream = SwissQuoteStream(handle_new_price)\n",
    "#stream.start()"
   ]
  },
  {
   "cell_type": "code",
   "execution_count": null,
   "metadata": {},
   "outputs": [],
   "source": []
  }
 ],
 "metadata": {
  "kernelspec": {
   "display_name": "Python 3",
   "language": "python",
   "name": "python3"
  },
  "language_info": {
   "codemirror_mode": {
    "name": "ipython",
    "version": 3
   },
   "file_extension": ".py",
   "mimetype": "text/x-python",
   "name": "python",
   "nbconvert_exporter": "python",
   "pygments_lexer": "ipython3",
   "version": "3.7.1"
  }
 },
 "nbformat": 4,
 "nbformat_minor": 2
}
