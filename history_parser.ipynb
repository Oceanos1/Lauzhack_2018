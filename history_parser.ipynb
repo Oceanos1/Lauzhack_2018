{
 "cells": [
  {
   "cell_type": "code",
   "execution_count": 178,
   "metadata": {},
   "outputs": [],
   "source": [
    "import requests\n",
    "import numpy as np\n",
    "import pandas as pd\n",
    "import datetime"
   ]
  },
  {
   "cell_type": "code",
   "execution_count": 21,
   "metadata": {},
   "outputs": [],
   "source": [
    "API_ENDPOINT_URL =  'http://lauzhack.sqpub.ch/histo'\n",
    "\n",
    "r = requests.get(API_ENDPOINT_URL)\n",
    "\n"
   ]
  },
  {
   "cell_type": "code",
   "execution_count": 36,
   "metadata": {
    "scrolled": false
   },
   "outputs": [],
   "source": [
    "raw_data = r.text.split('\\n')"
   ]
  },
  {
   "cell_type": "code",
   "execution_count": 190,
   "metadata": {},
   "outputs": [],
   "source": [
    "data_series = pd.Series(raw_data)\n",
    "\n",
    "data_series = data_series.str.split(' ')\n",
    "\n",
    "data = pd.DataFrame(data_series.values.tolist(), index=data_series.index)\n",
    "data.columns = ['timestamp', 'price']\n",
    "data['timestamp'] = pd.to_datetime(data.timestamp)\n",
    "data.set_index('timestamp', inplace=True)\n",
    "data['price'] = data['price'].astype(float)"
   ]
  },
  {
   "cell_type": "code",
   "execution_count": 191,
   "metadata": {
    "scrolled": false
   },
   "outputs": [
    {
     "data": {
      "text/html": [
       "<div>\n",
       "<style scoped>\n",
       "    .dataframe tbody tr th:only-of-type {\n",
       "        vertical-align: middle;\n",
       "    }\n",
       "\n",
       "    .dataframe tbody tr th {\n",
       "        vertical-align: top;\n",
       "    }\n",
       "\n",
       "    .dataframe thead th {\n",
       "        text-align: right;\n",
       "    }\n",
       "</style>\n",
       "<table border=\"1\" class=\"dataframe\">\n",
       "  <thead>\n",
       "    <tr style=\"text-align: right;\">\n",
       "      <th></th>\n",
       "      <th>price</th>\n",
       "    </tr>\n",
       "    <tr>\n",
       "      <th>timestamp</th>\n",
       "      <th></th>\n",
       "    </tr>\n",
       "  </thead>\n",
       "  <tbody>\n",
       "    <tr>\n",
       "      <th>2018-11-23 20:03:03.969</th>\n",
       "      <td>4230.00</td>\n",
       "    </tr>\n",
       "    <tr>\n",
       "      <th>2018-11-23 20:03:04.439</th>\n",
       "      <td>4230.00</td>\n",
       "    </tr>\n",
       "    <tr>\n",
       "      <th>2018-11-23 20:03:04.519</th>\n",
       "      <td>4230.00</td>\n",
       "    </tr>\n",
       "    <tr>\n",
       "      <th>2018-11-23 20:03:04.994</th>\n",
       "      <td>4229.99</td>\n",
       "    </tr>\n",
       "    <tr>\n",
       "      <th>2018-11-23 20:03:04.994</th>\n",
       "      <td>4229.75</td>\n",
       "    </tr>\n",
       "  </tbody>\n",
       "</table>\n",
       "</div>"
      ],
      "text/plain": [
       "                           price\n",
       "timestamp                       \n",
       "2018-11-23 20:03:03.969  4230.00\n",
       "2018-11-23 20:03:04.439  4230.00\n",
       "2018-11-23 20:03:04.519  4230.00\n",
       "2018-11-23 20:03:04.994  4229.99\n",
       "2018-11-23 20:03:04.994  4229.75"
      ]
     },
     "execution_count": 191,
     "metadata": {},
     "output_type": "execute_result"
    }
   ],
   "source": [
    "data.head()\n"
   ]
  },
  {
   "cell_type": "code",
   "execution_count": 200,
   "metadata": {},
   "outputs": [
    {
     "data": {
      "text/html": [
       "<div>\n",
       "<style scoped>\n",
       "    .dataframe tbody tr th:only-of-type {\n",
       "        vertical-align: middle;\n",
       "    }\n",
       "\n",
       "    .dataframe tbody tr th {\n",
       "        vertical-align: top;\n",
       "    }\n",
       "\n",
       "    .dataframe thead th {\n",
       "        text-align: right;\n",
       "    }\n",
       "</style>\n",
       "<table border=\"1\" class=\"dataframe\">\n",
       "  <thead>\n",
       "    <tr style=\"text-align: right;\">\n",
       "      <th></th>\n",
       "      <th>price</th>\n",
       "    </tr>\n",
       "    <tr>\n",
       "      <th>timestamp</th>\n",
       "      <th></th>\n",
       "    </tr>\n",
       "  </thead>\n",
       "  <tbody>\n",
       "    <tr>\n",
       "      <th>2018-11-23 20:03:00</th>\n",
       "      <td>4228.882162</td>\n",
       "    </tr>\n",
       "    <tr>\n",
       "      <th>2018-11-23 20:04:00</th>\n",
       "      <td>4225.162500</td>\n",
       "    </tr>\n",
       "    <tr>\n",
       "      <th>2018-11-23 20:05:00</th>\n",
       "      <td>4225.610645</td>\n",
       "    </tr>\n",
       "    <tr>\n",
       "      <th>2018-11-23 20:06:00</th>\n",
       "      <td>4225.477000</td>\n",
       "    </tr>\n",
       "    <tr>\n",
       "      <th>2018-11-23 20:07:00</th>\n",
       "      <td>4229.185435</td>\n",
       "    </tr>\n",
       "  </tbody>\n",
       "</table>\n",
       "</div>"
      ],
      "text/plain": [
       "                           price\n",
       "timestamp                       \n",
       "2018-11-23 20:03:00  4228.882162\n",
       "2018-11-23 20:04:00  4225.162500\n",
       "2018-11-23 20:05:00  4225.610645\n",
       "2018-11-23 20:06:00  4225.477000\n",
       "2018-11-23 20:07:00  4229.185435"
      ]
     },
     "execution_count": 200,
     "metadata": {},
     "output_type": "execute_result"
    }
   ],
   "source": [
    "mean_minute = data.groupby(pd.Grouper(freq='60s')).mean()\n",
    "\n",
    "mean_minute.head()"
   ]
  },
  {
   "cell_type": "code",
   "execution_count": null,
   "metadata": {},
   "outputs": [],
   "source": []
  }
 ],
 "metadata": {
  "kernelspec": {
   "display_name": "Python 3",
   "language": "python",
   "name": "python3"
  },
  "language_info": {
   "codemirror_mode": {
    "name": "ipython",
    "version": 3
   },
   "file_extension": ".py",
   "mimetype": "text/x-python",
   "name": "python",
   "nbconvert_exporter": "python",
   "pygments_lexer": "ipython3",
   "version": "3.6.4"
  }
 },
 "nbformat": 4,
 "nbformat_minor": 2
}
