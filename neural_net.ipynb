{
 "cells": [
  {
   "cell_type": "code",
   "execution_count": null,
   "metadata": {},
   "outputs": [],
   "source": [
    "from keras.models import Sequential\n",
    "from keras.layers import LSTM, Dense\n",
    "from keras.utils import np_utils\n",
    "import numpy as np\n",
    "import pandas as pd\n",
    "from keras import initializers\n",
    "from sklearn.model_selection import train_test_split\n",
    "import requests\n",
    "import datetime\n",
    "\n",
    "def init_weights(shape, name=None):\n",
    "    return initializers.normal(shape, scale=0.01, name=name)"
   ]
  },
  {
   "cell_type": "code",
   "execution_count": null,
   "metadata": {},
   "outputs": [],
   "source": [
    "\n",
    "API_ENDPOINT_URL =  'http://lauzhack.sqpub.ch/histo_prices'\n",
    "r = requests.get(API_ENDPOINT_URL)\n",
    "raw_data = r.text.split('\\n')\n",
    "data_series = pd.Series(raw_data)\n",
    "data_series = data_series.str.split(' ')\n",
    "data = pd.DataFrame(data_series.values.tolist(), index=data_series.index)\n",
    "data.columns = ['timestamp', 'price']\n",
    "data['timestamp'] = pd.to_datetime(data.timestamp)\n",
    "data.set_index('timestamp', inplace=True)\n",
    "data['price'] = data['price'].astype(float)\n",
    "mean_minute = data.groupby(pd.Grouper(freq='60s')).mean()[2881:].dropna()\n",
    "mean_minute"
   ]
  },
  {
   "cell_type": "code",
   "execution_count": null,
   "metadata": {},
   "outputs": [],
   "source": [
    "# Hyper parameters\n",
    "batch_size = 128\n",
    "nb_epoch = 50\n",
    "\n",
    "# Parameters for MNIST dataset\n",
    "img_rows, img_cols = 28, 28\n",
    "nb_classes = 1\n",
    "\n",
    "# Parameters for LSTM network\n",
    "nb_lstm_outputs = 30"
   ]
  },
  {
   "cell_type": "code",
   "execution_count": null,
   "metadata": {},
   "outputs": [],
   "source": [
    "\n",
    "\n",
    "\n",
    "data = mean_minute[\"price\"].values\n",
    "\n",
    "col = 60 #60 minutes\n",
    "\n",
    "row = int(float(data.size) / col)\n",
    "\n",
    "data = data[:row*col].reshape((row,col,1))\n",
    "\n",
    "labels = data[:,data.shape[1]-1]\n",
    "\n",
    "#we remove last col of data\n",
    "data=np.delete(data,data.shape[1]-1,1)"
   ]
  },
  {
   "cell_type": "code",
   "execution_count": null,
   "metadata": {},
   "outputs": [],
   "source": [
    "# Load MNIST dataset\n",
    "X_train, X_test, Y_train, Y_test = train_test_split(data, labels, test_size=0.25, random_state=42)\n",
    "print('X_train original shape:', X_train.shape)\n",
    "input_shape = (59,1)\n",
    "\n",
    "print('X_train shape:', X_train.shape)\n",
    "print(X_train.shape[0], 'train samples')\n",
    "print(X_test.shape[0], 'test samples')"
   ]
  },
  {
   "cell_type": "code",
   "execution_count": null,
   "metadata": {},
   "outputs": [],
   "source": [
    "# Build LSTM network\n",
    "model = Sequential()\n",
    "model.add(LSTM(nb_lstm_outputs, input_shape=input_shape))\n",
    "model.add(Dense(1, activation='relu',kernel_initializer='uniform'))\n",
    "model.compile(optimizer='adam', loss='mean_squared_error', metrics=['accuracy'])\n",
    "model.summary()"
   ]
  },
  {
   "cell_type": "code",
   "execution_count": null,
   "metadata": {},
   "outputs": [],
   "source": [
    "history = model.fit(X_train, Y_train, nb_epoch=nb_epoch, batch_size=batch_size, shuffle=True, verbose=1)"
   ]
  },
  {
   "cell_type": "code",
   "execution_count": null,
   "metadata": {},
   "outputs": [],
   "source": [
    "evaluation = model.evaluate(X_test, Y_test, batch_size=batch_size, verbose=1)\n",
    "print('Summary: Loss over the test dataset: %.2f, Accuracy: %.2f' % (evaluation[0], evaluation[1]))"
   ]
  },
  {
   "cell_type": "code",
   "execution_count": null,
   "metadata": {},
   "outputs": [],
   "source": []
  },
  {
   "cell_type": "code",
   "execution_count": null,
   "metadata": {},
   "outputs": [],
   "source": []
  },
  {
   "cell_type": "code",
   "execution_count": null,
   "metadata": {},
   "outputs": [],
   "source": []
  },
  {
   "cell_type": "code",
   "execution_count": null,
   "metadata": {},
   "outputs": [],
   "source": []
  },
  {
   "cell_type": "code",
   "execution_count": null,
   "metadata": {},
   "outputs": [],
   "source": []
  }
 ],
 "metadata": {
  "kernelspec": {
   "display_name": "lauzhack",
   "language": "python",
   "name": "lauzhack"
  },
  "language_info": {
   "codemirror_mode": {
    "name": "ipython",
    "version": 3
   },
   "file_extension": ".py",
   "mimetype": "text/x-python",
   "name": "python",
   "nbconvert_exporter": "python",
   "pygments_lexer": "ipython3",
   "version": "3.6.6"
  }
 },
 "nbformat": 4,
 "nbformat_minor": 1
}
